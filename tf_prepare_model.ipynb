{
 "cells": [
  {
   "cell_type": "markdown",
   "metadata": {
    "colab_type": "text",
    "id": "zCs764L8THCL"
   },
   "source": [
    "# Импорт модулей"
   ]
  },
  {
   "cell_type": "code",
   "execution_count": null,
   "metadata": {},
   "outputs": [],
   "source": [
    "!pip install tensorflow==1.15.0"
   ]
  },
  {
   "cell_type": "code",
   "execution_count": null,
   "metadata": {},
   "outputs": [],
   "source": [
    "tf.__version__"
   ]
  },
  {
   "cell_type": "code",
   "execution_count": null,
   "metadata": {},
   "outputs": [],
   "source": [
    "import keras\n",
    "keras.__version__"
   ]
  },
  {
   "cell_type": "code",
   "execution_count": null,
   "metadata": {
    "colab": {
     "base_uri": "https://localhost:8080/",
     "height": 34
    },
    "colab_type": "code",
    "id": "5A1XxW_8eDmp",
    "outputId": "eb6498b8-8bd9-4177-fe07-7f6292cce7bc"
   },
   "outputs": [],
   "source": [
    "# Датасет с изображениями\n",
    "# https://drive.google.com/open?id=1XHDr44w65JHCceXZzTbYX6p3pDfEmLfx\n",
    "\n",
    "from keras.applications.vgg16 import VGG16\n",
    "from keras.preprocessing import image\n",
    "from keras.models import Sequential, load_model\n",
    "from keras.layers import Dense, Flatten, Dropout, Reshape, Input, Lambda\n",
    "from keras.optimizers import Adam\n",
    "from keras.preprocessing.image import ImageDataGenerator\n",
    "from keras.applications.vgg16 import preprocess_input\n",
    "import numpy as np\n",
    "import matplotlib.pyplot as plt\n",
    "%matplotlib inline \n",
    "from os import listdir\n",
    "import os\n",
    "import shutil\n",
    "import PIL\n",
    "from IPython.display import display\n",
    "from PIL import Image\n",
    "import pathlib\n",
    "import csv\n",
    "!pip install patool\n",
    "import patoolib\n",
    "import base64"
   ]
  },
  {
   "cell_type": "markdown",
   "metadata": {
    "colab_type": "text",
    "id": "BQydJQ5wajTw"
   },
   "source": [
    "# Подготовка данных"
   ]
  },
  {
   "cell_type": "code",
   "execution_count": null,
   "metadata": {
    "colab": {
     "base_uri": "https://localhost:8080/",
     "height": 34
    },
    "colab_type": "code",
    "id": "VOJBNrRPVqRN",
    "outputId": "233556b6-24b2-41dc-f536-0a799bd6f5ab"
   },
   "outputs": [],
   "source": [
    "!ls data_documents"
   ]
  },
  {
   "cell_type": "code",
   "execution_count": null,
   "metadata": {
    "colab": {
     "base_uri": "https://localhost:8080/",
     "height": 337
    },
    "colab_type": "code",
    "id": "gCN0Vr-7fCJy",
    "outputId": "fc088000-04af-48f9-ed4f-6beb85aed5ab"
   },
   "outputs": [],
   "source": [
    "arr = image.load_img('data_documents/licenses/i (29).jpeg')\n",
    "display(arr)"
   ]
  },
  {
   "cell_type": "code",
   "execution_count": null,
   "metadata": {
    "colab": {
     "base_uri": "https://localhost:8080/",
     "height": 68
    },
    "colab_type": "code",
    "id": "tVFhwIflisZy",
    "outputId": "de6888c3-48b5-4088-c177-0e086a31c9cb"
   },
   "outputs": [],
   "source": [
    "print('Всего счетов: ',  len(listdir('data_documents/bills')))\n",
    "print('Всего договоров: ',  len(listdir('data_documents/contracts')))\n",
    "print('Всего лицензий: ',  len(listdir('data_documents/licenses')))"
   ]
  },
  {
   "cell_type": "code",
   "execution_count": null,
   "metadata": {
    "colab": {},
    "colab_type": "code",
    "id": "rx7D88HgRebz"
   },
   "outputs": [],
   "source": [
    "%%bash\n",
    "#mkdir train\n",
    "#mkdir test"
   ]
  },
  {
   "cell_type": "code",
   "execution_count": null,
   "metadata": {
    "colab": {},
    "colab_type": "code",
    "id": "X3GQbsOcR7g4"
   },
   "outputs": [],
   "source": [
    "%%bash\n",
    "mkdir train/bills\n",
    "mkdir train/contracts\n",
    "mkdir train/licenses"
   ]
  },
  {
   "cell_type": "code",
   "execution_count": null,
   "metadata": {
    "colab": {},
    "colab_type": "code",
    "id": "ScDmW_kgSEyA"
   },
   "outputs": [],
   "source": [
    "%%bash\n",
    "mkdir test/bills\n",
    "mkdir test/contracts\n",
    "mkdir test/licenses"
   ]
  },
  {
   "cell_type": "code",
   "execution_count": null,
   "metadata": {
    "colab": {
     "base_uri": "https://localhost:8080/",
     "height": 34
    },
    "colab_type": "code",
    "id": "Jrht9AH9SKV6",
    "outputId": "dce1d60f-92ed-4213-edac-8c73635fd514"
   },
   "outputs": [],
   "source": [
    "!ls"
   ]
  },
  {
   "cell_type": "code",
   "execution_count": null,
   "metadata": {
    "colab": {},
    "colab_type": "code",
    "id": "bjpZhxd0Sbiu"
   },
   "outputs": [],
   "source": [
    "coef_train = 0.75\n",
    "#coef_test = 0.3\n",
    "bills_value = len(listdir('data_documents/bills'))\n",
    "contracts_value = len(listdir('data_documents/contracts'))\n",
    "licenses_value =  len(listdir('data_documents/licenses'))"
   ]
  },
  {
   "cell_type": "code",
   "execution_count": null,
   "metadata": {
    "colab": {},
    "colab_type": "code",
    "id": "hAkf-7se1vSB"
   },
   "outputs": [],
   "source": [
    "def copy_images(path, coef, class_name):\n",
    "  image_value = len(listdir(path))\n",
    "  file_names = listdir(path)\n",
    "  \n",
    "  # 75 % изображений перемещаем в папку train/ 'class_name'\n",
    "  for i in range(0, int(coef*image_value)):\n",
    "    shutil.copy(os.path.join(path, file_names[i]), os.path.join('train', class_name))\n",
    "\n",
    "  # 25 % изображений перемещаем в папку test/ 'class_name'\n",
    "  for i in range(int(coef*image_value), int(image_value)):\n",
    "    shutil.copy(os.path.join(path, file_names[i]), os.path.join('test', class_name))\n"
   ]
  },
  {
   "cell_type": "code",
   "execution_count": null,
   "metadata": {
    "colab": {},
    "colab_type": "code",
    "id": "m2btK4pd3ioe"
   },
   "outputs": [],
   "source": [
    "copy_images('data_documents/bills', coef_train, 'bills')"
   ]
  },
  {
   "cell_type": "code",
   "execution_count": null,
   "metadata": {
    "colab": {},
    "colab_type": "code",
    "id": "AKzrTstO36Dc"
   },
   "outputs": [],
   "source": [
    "copy_images('data_documents/contracts', coef_train, 'contracts')"
   ]
  },
  {
   "cell_type": "code",
   "execution_count": null,
   "metadata": {
    "colab": {},
    "colab_type": "code",
    "id": "c51WN6yy38iz"
   },
   "outputs": [],
   "source": [
    "copy_images('data_documents/licenses', coef_train, 'licenses')"
   ]
  },
  {
   "cell_type": "code",
   "execution_count": null,
   "metadata": {
    "colab": {
     "base_uri": "https://localhost:8080/",
     "height": 34
    },
    "colab_type": "code",
    "id": "WY-7rXQkU3hX",
    "outputId": "f0bcb49d-9790-4f52-a53c-947839b178db"
   },
   "outputs": [],
   "source": [
    "print('Счета: ', len(listdir('train/bills')),len(listdir('test/bills')))"
   ]
  },
  {
   "cell_type": "code",
   "execution_count": null,
   "metadata": {
    "colab": {
     "base_uri": "https://localhost:8080/",
     "height": 34
    },
    "colab_type": "code",
    "id": "-rnLzdV14Fit",
    "outputId": "44d27fc4-abf4-4587-80ee-aaf8a5c83881"
   },
   "outputs": [],
   "source": [
    "print('Договора: ', len(listdir('train/contracts')),len(listdir('test/contracts')))"
   ]
  },
  {
   "cell_type": "code",
   "execution_count": null,
   "metadata": {
    "colab": {
     "base_uri": "https://localhost:8080/",
     "height": 34
    },
    "colab_type": "code",
    "id": "6pXryE6a4INV",
    "outputId": "e2f43201-2eb7-4317-bfea-ed0715ed302d"
   },
   "outputs": [],
   "source": [
    "print('Лицензии: ', len(listdir('train/licenses')),len(listdir('test/licenses')))"
   ]
  },
  {
   "cell_type": "code",
   "execution_count": null,
   "metadata": {
    "colab": {
     "base_uri": "https://localhost:8080/",
     "height": 269
    },
    "colab_type": "code",
    "id": "cG3AODa8zit5",
    "outputId": "11098530-3f6a-4d0c-bf50-5f3b71057a61"
   },
   "outputs": [],
   "source": [
    "img_path = 'train/bills/i (97).jpeg'\n",
    "img = image.load_img(img_path, target_size=(224, 224))\n",
    "plt.imshow(img)\n",
    "plt.show()"
   ]
  },
  {
   "cell_type": "code",
   "execution_count": null,
   "metadata": {
    "colab": {},
    "colab_type": "code",
    "id": "2y8EAipbzeXY"
   },
   "outputs": [],
   "source": [
    "# Размеры изображения\n",
    "img_width, img_height = 224, 224\n",
    "# Размерности тензоров\n",
    "input_shape = (img_width, img_height, 3)\n",
    "# Размер мини-выборки\n",
    "batch_size = 32"
   ]
  },
  {
   "cell_type": "markdown",
   "metadata": {
    "colab_type": "text",
    "id": "zrsSIXHNTMb5"
   },
   "source": [
    "# Модель без генератора"
   ]
  },
  {
   "cell_type": "markdown",
   "metadata": {
    "colab_type": "text",
    "id": "n7iJGwtZ8Bsl"
   },
   "source": [
    "## Загрузка данных"
   ]
  },
  {
   "cell_type": "code",
   "execution_count": null,
   "metadata": {
    "colab": {},
    "colab_type": "code",
    "id": "-Z07IIwSUEH4"
   },
   "outputs": [],
   "source": [
    "# Загружаем данные\n",
    "def data_load(path):\n",
    "  X = []\n",
    "  y = []\n",
    "  class_names = ['bills', 'contracts', 'licenses']\n",
    "  for class_name in class_names:\n",
    "    path_temp = os.path.join(path, class_name)\n",
    "    file_names = listdir(path_temp)\n",
    "    for file in file_names:\n",
    "      if 'jpeg' in file:\n",
    "        img = image.load_img(os.path.join(path_temp, file), target_size=(224, 224))\n",
    "        # convert to numpy array\n",
    "        img_array = image.img_to_array(img)\n",
    "        X.append(img_array)\n",
    "        y.append(class_names.index(class_name))\n",
    "  return X, y"
   ]
  },
  {
   "cell_type": "code",
   "execution_count": null,
   "metadata": {
    "colab": {},
    "colab_type": "code",
    "id": "_zaN2ekOYl1G"
   },
   "outputs": [],
   "source": [
    "X_train, y_train = data_load('train')"
   ]
  },
  {
   "cell_type": "code",
   "execution_count": null,
   "metadata": {
    "colab": {},
    "colab_type": "code",
    "id": "qpbHl3RnZc5s"
   },
   "outputs": [],
   "source": [
    "X_test, y_test = data_load('test')"
   ]
  },
  {
   "cell_type": "code",
   "execution_count": null,
   "metadata": {
    "colab": {
     "base_uri": "https://localhost:8080/",
     "height": 51
    },
    "colab_type": "code",
    "id": "qS4b_x2boGqr",
    "outputId": "c2833f43-1171-4d89-898b-bbf7a5248e0b"
   },
   "outputs": [],
   "source": [
    "print(len(X_train), len(y_train))\n",
    "print(len(X_test), len(y_test))"
   ]
  },
  {
   "cell_type": "code",
   "execution_count": null,
   "metadata": {
    "colab": {
     "base_uri": "https://localhost:8080/",
     "height": 269
    },
    "colab_type": "code",
    "id": "jHz1gBuCYwZA",
    "outputId": "2fe80fe9-b0b7-4d2d-c8cd-182a92bb8317"
   },
   "outputs": [],
   "source": [
    "# convert back to image\n",
    "img_pil = image.array_to_img(X_test[100])\n",
    "plt.imshow(img_pil)\n",
    "plt.show()"
   ]
  },
  {
   "cell_type": "code",
   "execution_count": null,
   "metadata": {},
   "outputs": [],
   "source": [
    "y_test[100]"
   ]
  },
  {
   "cell_type": "code",
   "execution_count": null,
   "metadata": {
    "colab": {},
    "colab_type": "code",
    "id": "d7iZhO4jaRqx"
   },
   "outputs": [],
   "source": [
    "from keras.utils import to_categorical\n",
    "y_train = to_categorical(y_train)\n",
    "y_test = to_categorical(y_test)\n",
    "# OHE"
   ]
  },
  {
   "cell_type": "code",
   "execution_count": null,
   "metadata": {
    "colab": {},
    "colab_type": "code",
    "id": "SEyALhMSuHrp"
   },
   "outputs": [],
   "source": [
    "X_train = np.asarray(X_train)/255\n",
    "X_test = np.asarray(X_test)/255\n",
    "y_train = np.asarray(y_train)\n",
    "y_test = np.asarray(y_test)"
   ]
  },
  {
   "cell_type": "markdown",
   "metadata": {
    "colab_type": "text",
    "id": "qKdg2pch6Xaw"
   },
   "source": [
    "## Строим сеть"
   ]
  },
  {
   "cell_type": "code",
   "execution_count": null,
   "metadata": {
    "colab": {
     "base_uri": "https://localhost:8080/",
     "height": 51
    },
    "colab_type": "code",
    "id": "zyo5CFgPZ9Rd",
    "outputId": "41f12ef4-ef4b-4678-f703-64942a36a1bc"
   },
   "outputs": [],
   "source": [
    "#Sequential\n",
    "vgg16_NN = VGG16(weights='imagenet', \n",
    "                  include_top=False, \n",
    "                  input_shape=input_shape)\n",
    "model = Sequential()\n",
    "model.add(vgg16_NN)\n",
    "#model.add(Flatten())\n",
    "model.add(Dense(256, activation='relu'))\n",
    "#model.add(Dropout(0.25))\n",
    "model.add(Dense(64, activation='relu'))\n",
    "model.add(Reshape((7*7*64,)))\n",
    "#model.add(Dropout(0.25))\n",
    "model.add(Dense(3, activation='softmax'))"
   ]
  },
  {
   "cell_type": "code",
   "execution_count": null,
   "metadata": {
    "colab": {},
    "colab_type": "code",
    "id": "B5nZzwAIaQoT"
   },
   "outputs": [],
   "source": [
    "lr = 1e-4\n",
    "model.compile(\n",
    "              loss='categorical_crossentropy',\n",
    "              optimizer=Adam(lr=lr),\n",
    "              metrics=['accuracy']\n",
    "              )"
   ]
  },
  {
   "cell_type": "code",
   "execution_count": null,
   "metadata": {
    "colab": {
     "base_uri": "https://localhost:8080/",
     "height": 34
    },
    "colab_type": "code",
    "id": "yCsQ6MS-bcGy",
    "outputId": "89f6f51b-4d3d-4469-bdb6-13fafcc09036"
   },
   "outputs": [],
   "source": [
    "X_train.shape"
   ]
  },
  {
   "cell_type": "code",
   "execution_count": null,
   "metadata": {
    "colab": {
     "base_uri": "https://localhost:8080/",
     "height": 34
    },
    "colab_type": "code",
    "id": "BE43_yc3cddH",
    "outputId": "e6bba634-02ba-4f8d-cac0-4b96a71fcfd3"
   },
   "outputs": [],
   "source": [
    "y_train.shape"
   ]
  },
  {
   "cell_type": "code",
   "execution_count": null,
   "metadata": {
    "colab": {
     "base_uri": "https://localhost:8080/",
     "height": 374
    },
    "colab_type": "code",
    "id": "PRE2yxqote6i",
    "outputId": "97503ba8-998c-4b27-9402-97cb36c445a9"
   },
   "outputs": [],
   "source": [
    "import time\n",
    "start_all_time = time.time()\n",
    "history = model.fit(\n",
    "                      x=X_train, y = y_train,\n",
    "                      batch_size = 32,\n",
    "                      validation_split=0.2,\n",
    "                      epochs=4)\n",
    "print (f'Обучилась за: {time.time() - start_all_time}')"
   ]
  },
  {
   "cell_type": "code",
   "execution_count": null,
   "metadata": {
    "colab": {
     "base_uri": "https://localhost:8080/",
     "height": 279
    },
    "colab_type": "code",
    "id": "KWocgAQQy0vR",
    "outputId": "9ae85eee-35b5-42cd-a363-b132f1531a9b"
   },
   "outputs": [],
   "source": [
    "plt.plot(history.history['acc'], \n",
    "         label='Доля верных ответов на обучающем наборе')\n",
    "plt.plot(history.history['val_acc'], \n",
    "         label='Доля верных ответов на проверочном наборе')\n",
    "plt.xlabel('Эпоха обучения')\n",
    "plt.ylabel('Доля верных ответов')\n",
    "plt.legend()\n",
    "plt.show()"
   ]
  },
  {
   "cell_type": "code",
   "execution_count": null,
   "metadata": {
    "colab": {},
    "colab_type": "code",
    "id": "sYXNz9FEw2bw"
   },
   "outputs": [],
   "source": [
    "y_predict = model.predict(X_test)"
   ]
  },
  {
   "cell_type": "code",
   "execution_count": null,
   "metadata": {
    "colab": {},
    "colab_type": "code",
    "id": "jb2CeDjoxJ7E"
   },
   "outputs": [],
   "source": [
    "y_predict = np.argmax(y_predict, axis=1)"
   ]
  },
  {
   "cell_type": "code",
   "execution_count": null,
   "metadata": {
    "colab": {},
    "colab_type": "code",
    "id": "ba4OdpW7xeoA"
   },
   "outputs": [],
   "source": [
    "y_test = np.argmax(y_test, axis=1)"
   ]
  },
  {
   "cell_type": "code",
   "execution_count": null,
   "metadata": {
    "colab": {
     "base_uri": "https://localhost:8080/",
     "height": 34
    },
    "colab_type": "code",
    "id": "mMbQOx4PxqsK",
    "outputId": "1dfe4d11-c528-45b1-f961-c1209612d095"
   },
   "outputs": [],
   "source": [
    "from sklearn.metrics import accuracy_score\n",
    "accuracy_score(y_predict, y_test)"
   ]
  },
  {
   "cell_type": "markdown",
   "metadata": {},
   "source": [
    "# Сохраняем модель SaveModel"
   ]
  },
  {
   "cell_type": "code",
   "execution_count": null,
   "metadata": {},
   "outputs": [],
   "source": [
    "# export the model\n",
    "import keras.backend as K\n",
    "\n",
    "from tensorflow.python.saved_model import builder as saved_model_builder\n",
    "from tensorflow.python.saved_model import utils\n",
    "from tensorflow.python.saved_model import tag_constants, signature_constants\n",
    "from tensorflow.python.saved_model.signature_def_utils_impl import build_signature_def, predict_signature_def\n",
    "from tensorflow.contrib.session_bundle import exporter\n",
    "import os, shutil\n",
    "import numpy as np\n",
    "from keras.utils.data_utils import get_file\n",
    "\n",
    "models_dir = os.path.join(os.getcwd(), \"models\")\n",
    "model_name = \"document\"\n",
    "model_version = \"00001\"\n",
    "if os.path.exists(models_dir):\n",
    "  shutil.rmtree(models_dir)\n",
    "export_path = os.path.join(models_dir, model_name, model_version)\n",
    "print(export_path)\n",
    "if os.path.exists(export_path):\n",
    "  shutil.rmtree(export_path)\n",
    "builder = saved_model_builder.SavedModelBuilder(export_path)\n",
    "\n",
    "signature = predict_signature_def(inputs={'images': model.input},\n",
    "                                 outputs={'scores': model.output})\n",
    "\n",
    "with K.get_session() as sess:\n",
    "  builder.add_meta_graph_and_variables(sess=sess,\n",
    "                                      tags=[tag_constants.SERVING],\n",
    "                                      signature_def_map={'predict': signature})\n",
    "  builder.save()"
   ]
  },
  {
   "cell_type": "code",
   "execution_count": null,
   "metadata": {},
   "outputs": [],
   "source": [
    "# list the files and directories in our model export directory\n",
    "os.listdir(export_path)"
   ]
  },
  {
   "cell_type": "code",
   "execution_count": null,
   "metadata": {},
   "outputs": [],
   "source": [
    "os.path.join(os.getcwd(), \"/images/bill.jpg\")"
   ]
  },
  {
   "cell_type": "markdown",
   "metadata": {},
   "source": [
    "# Запросы к серверу"
   ]
  },
  {
   "cell_type": "code",
   "execution_count": null,
   "metadata": {},
   "outputs": [],
   "source": [
    "import tensorflow as tf\n",
    "from skimage import io\n",
    "\n",
    "# Select an image that the model has not seen during training\n",
    "image = '/Users/dimon/Desktop/Школа Больших Данных/Кейс_классификация_документов/tensorflow_serving_example_v2/images/contract.jpeg'\n",
    "print(image)\n",
    "# Display the image for the user\n",
    "io.imshow(image)\n",
    "io.show()\n",
    "\n",
    "# Preprocessing function that defines a TensorFlow graph to preprocess the image\n",
    "# to a format that the model needs as its input\n",
    "def preprocess_image(image_buffer):\n",
    "  \"\"\"Preprocess JPEG encoded bytes to 3D float Tensor.\"\"\"\n",
    "\n",
    "  # Decode the string as an RGB JPEG.\n",
    "  # Note that the resulting image contains an unknown height and width\n",
    "  # that is set dynamically by decode_jpeg. In other words, the height\n",
    "  # and width of image is unknown at compile-time.\n",
    "  image = tf.image.decode_jpeg(image_buffer, channels=3)\n",
    "  # After this point, all image pixels reside in [0,1).\n",
    "  image = tf.image.convert_image_dtype(image, dtype=tf.float32)\n",
    "  # Crop the central region of the image with an area containing 87.5% of\n",
    "  # the original image.\n",
    "  image = tf.image.central_crop(image, central_fraction=0.875)\n",
    "  # Resize the image to the height and width needed for VGG-16 model \n",
    "  # Here it's 224, but it can vary based on the architecture of the model used.\n",
    "  image = tf.expand_dims(image, 0)\n",
    "  image = tf.image.resize_bilinear(\n",
    "      image, [224, 224], align_corners=False)\n",
    "  image = tf.squeeze(image)\n",
    "  return image"
   ]
  },
  {
   "cell_type": "code",
   "execution_count": null,
   "metadata": {},
   "outputs": [],
   "source": [
    "from grpc.beta import implementations\n",
    "\n",
    "from tensorflow.core.framework import types_pb2\n",
    "from tensorflow.python.platform import flags\n",
    "from tensorflow_serving.apis import predict_pb2\n",
    "from tensorflow_serving.apis import prediction_service_pb2\n",
    "import requests\n",
    "\n",
    "# Specify the port on which TensorFlow Model Server is running in Part 2\n",
    "#server = \"0.0.0.0:8501\"\n",
    "server = \"localhost:8501\"\n",
    "# Gather host and port data for the model server\n",
    "host, port = server.split(':')\n",
    "\n",
    "SERVER_URL = 'http://localhost:8501/v1/models/document:predict'\n",
    "\n",
    "with open(image, 'rb') as f:\n",
    "# Create a channel\n",
    "  channel = implementations.insecure_channel(host, int(port))\n",
    "# Create a prediction service (gRPC)\n",
    "# We can then send gRPC requests using Protocol Buffers (protobuf) to this service \n",
    "# and get back a response as a protobuf which we can then extract information from.\n",
    "# See prediction_service.proto in TensorFlow Serving code base\n",
    "# for gRPC request/response details\n",
    "  stub = prediction_service_pb2.beta_create_PredictionService_stub(channel)\n",
    "  # Read the image data from a JPEG image\n",
    "  data = f.read()  \n",
    "  # Preprocess the data using the TensorFlow graph defined above in\n",
    "  # `preprocess_image()` function\n",
    "  im_data = preprocess_image(data)\n",
    "  with tf.Session() as sess:\n",
    "    # We need to run the session in order to compute the values in the \n",
    "    # graph defined in `preprocess_image()` function\n",
    "    sess.run(im_data)\n",
    "    # Convert the tensor returned from the preoprocess_image() function to a\n",
    "    # numpy array using `eval()` function\n",
    "    im_data_arr = im_data.eval()\n",
    "  print(type(im_data_arr), im_data_arr.shape)\n",
    "  payload = { 'signature_name': 'predict', \"instances\": [{'images': im_data_arr.tolist()}] }\n",
    "\n",
    "  r = requests.post(SERVER_URL, json=payload)\n",
    "  print(r.text)"
   ]
  }
 ],
 "metadata": {
  "accelerator": "GPU",
  "colab": {
   "name": "Automatic_workflow.ipynb",
   "provenance": []
  },
  "kernelspec": {
   "display_name": "Python 3",
   "language": "python",
   "name": "python3"
  },
  "language_info": {
   "codemirror_mode": {
    "name": "ipython",
    "version": 3
   },
   "file_extension": ".py",
   "mimetype": "text/x-python",
   "name": "python",
   "nbconvert_exporter": "python",
   "pygments_lexer": "ipython3",
   "version": "3.7.4"
  }
 },
 "nbformat": 4,
 "nbformat_minor": 1
}
